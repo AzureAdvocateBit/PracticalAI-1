{
 "cells": [
  {
   "cell_type": "markdown",
   "metadata": {},
   "source": [
    "# Custom Vision with R\n",
    "\n",
    "## Not Hotdog\n",
    "\n",
    "This example uses the Microsoft Custom Vision API create a function that identifies\n",
    "whether an image on the web is a hot dog ... or not a hotdog. (Inspired by an [episode of Silicon Valley](https://www.youtube.com/watch?v=ACmydtFDTGs).) \n",
    "\n",
    "For an overview of the application, take a look at [this blog post](http://blog.revolutionanalytics.com/2018/04/not-hotdog.html). If you'd prefer to use R or RStudio on your laptop to run this script, you can [download this Github repository](https://github.com/revodavid/nothotdog).\n",
    "\n",
    "Here are some useful references:\n",
    "\n",
    "* [Overview of Custom Vision API](https://docs.microsoft.com/en-us/azure/cognitive-services/custom-vision-service/home?WT.mc_id=ODSC-workshop-davidsmi)\n",
    "* [Custom Vision Training API reference](https://southcentralus.dev.cognitive.microsoft.com/docs/services/fde264b7c0e94a529a0ad6d26550a761/operations/59568ae208fa5e09ecb9983a)\n",
    "* [Custom Vision Prediction API reference](https://southcentralus.dev.cognitive.microsoft.com/docs/services/57982f59b5964e36841e22dfbfe78fc1/operations/5a3044f608fa5e06b890f164)\n",
    "\n",
    "The Custom Vision API also has a Web interface. As you work through this example, you can see the \n",
    "effects of your API calls as you go by browsing to\n",
    "https://www.customvision.ai/projects and logging in with your Microsoft Account.\n",
    "\n",
    "**Note**: The Custom Vision API is in preview, which means that these APIs may change in the future. Custom Vision is only\n",
    "available in the South Central US region while it's in preview, so we won't worry about regions in this example.\n",
    "\n",
    "## Create authorization keys for Custom Vision\n",
    "\n",
    "1. Visit https://portal.azure.com (and sign in if needed)\n",
    "2. Click \"+ Create a Resource\" (top-left corner)\n",
    "3. With the \"Search the Marketplace\" box, search for \"Custom Vision\"\n",
    "4. Select \"Custom Vision (preview)\" and click \"Create\"\n",
    "    * Name: aiforgood-customvision\n",
    "    * Subscription: _there should be just one option_\n",
    "    * Location: South Central US\n",
    "    * Prediction Pricing Tier: F0 (free, 2 transactions per second)\n",
    "    * Training pricing Tier: F0 (2 projects)\n",
    "    * Resource Group: Use existing \"aiforgood\" group\n",
    "5. Click \"Create\"\n",
    "\n",
    "## Modify the keys.txt file\n",
    "\n",
    "Edit the `keys.txt` file to provide the necessary keys. In Azure Notebooks, you select the file and press `i` to edit it directly. (Alternatively, you can download the file `keys.txt` -- highlight it in the Library view and then press `d` or click the download icon in the toolbar -- and edit it with an editor, then upload the modified file.)\n",
    "\n",
    "For the first line of the file, `region`, change the value to `southcentralus`. \n",
    "\n",
    "Ignore the second line of the file, `vision`. \n",
    "\n",
    "Visit your `aiforgood` resource group in the [Azure Portal](https://portal.azure.com?WT.mc_id=ODSC-workshop-davidsmi) and then:\n",
    "\n",
    "1. Click on the API resource for Custom Vision `aiforgood-customvision`\n",
    "2. In the menu, click on \"keys\"\n",
    "3. Click the \"copy to clipboard\" next to KEY 1. (You can ignore KEY 2).\n",
    "4. Paste the key into the `custom` entry in keys.txt\n",
    "\n",
    "1. Click on the API resource for Custom Vision `aiforgood-customvis_Prediction` (this resource\n",
    "   was created automatically for you).\n",
    "2. In the menu, click on \"keys\"\n",
    "3. Click the \"copy to clipboard\" next to KEY 1. (You can ignore KEY 2).\n",
    "4. Paste the key into the `cvpred` entry in keys.txt\n",
    "\n",
    "Your final `keys.txt` file will look like this, but with different (working) keys:\n",
    "\n",
    "```\n",
    "       key\n",
    "region southcentralus\n",
    "vision 7f1f01ac24064abd80970f41a90237e7\n",
    "custom 1632b49e2930430694a9bbd3ab0c0cc2\n",
    "cvpred 37eb1f0e5fd34253939350197ae3d933\n",
    "```"
   ]
  },
  {
   "cell_type": "code",
   "execution_count": 1,
   "metadata": {},
   "outputs": [],
   "source": [
    "library(httr)\n",
    "library(jsonlite)"
   ]
  },
  {
   "cell_type": "markdown",
   "metadata": {},
   "source": [
    "Make sure you've followed the instructions above to provide API keys in the `keys.txt` file, and then:"
   ]
  },
  {
   "cell_type": "code",
   "execution_count": 2,
   "metadata": {},
   "outputs": [
    {
     "name": "stdout",
     "output_type": "stream",
     "text": [
      "                                    key\n",
      "region                   southcentralus\n",
      "vision c95c7fcf2e954fe1b2b47b24617fd4b0\n",
      "custom 7bd7f10043014857831af14a4a28d107\n",
      "cvpred 4afce98c2fa94154977721128e46f91e\n"
     ]
    }
   ],
   "source": [
    "## Retrieve API keys from keys.txt file, set API endpoint \n",
    "keys <- read.table(\"keys.txt\", header=TRUE, stringsAsFactors = FALSE)\n",
    "\n",
    "region <- keys[\"region\",1]\n",
    "## We won't actually use the region here, except as a check that keys.txt has been edited\n",
    "if (region==\"ERROR-EDIT-KEYS.txt-FILE\") \n",
    " stop(\"Edit the file keys.txt to provide valid keys. See README.md for details.\")\n",
    "\n",
    "## retrieve custom vision key\n",
    "cvision_api_key <- keys[\"custom\",1]\n",
    "cvision_pred_key <- keys[\"cvpred\",1]\n",
    "cvision_api_endpoint <- \"https://southcentralus.api.cognitive.microsoft.com/customvision/v1.1/Training\"\n",
    "\n",
    "print(keys)\n"
   ]
  },
  {
   "cell_type": "markdown",
   "metadata": {},
   "source": [
    "The first step is to create a project using the Custom Vision API. When creating a project, you can optionally use specialized domains like Landmarks or Retail to better identify images. We'll use the \"Food\" domain, and look up the ID code of the Food domain using the API, and them use that when creating our project."
   ]
  },
  {
   "cell_type": "code",
   "execution_count": 4,
   "metadata": {},
   "outputs": [
    {
     "name": "stdout",
     "output_type": "stream",
     "text": [
      "[[1]]\n",
      "[[1]]$Id\n",
      "[1] \"ee85a74c-405e-4adc-bb47-ffa8ca0c9f31\"\n",
      "\n",
      "[[1]]$Name\n",
      "[1] \"General\"\n",
      "\n",
      "[[1]]$Exportable\n",
      "[1] FALSE\n",
      "\n",
      "\n",
      "[[2]]\n",
      "[[2]]$Id\n",
      "[1] \"c151d5b5-dd07-472a-acc8-15d29dea8518\"\n",
      "\n",
      "[[2]]$Name\n",
      "[1] \"Food\"\n",
      "\n",
      "[[2]]$Exportable\n",
      "[1] FALSE\n",
      "\n",
      "\n",
      "[[3]]\n",
      "[[3]]$Id\n",
      "[1] \"ca455789-012d-4b50-9fec-5bb63841c793\"\n",
      "\n",
      "[[3]]$Name\n",
      "[1] \"Landmarks\"\n",
      "\n",
      "[[3]]$Exportable\n",
      "[1] FALSE\n",
      "\n",
      "\n",
      "[[4]]\n",
      "[[4]]$Id\n",
      "[1] \"b30a91ae-e3c1-4f73-a81e-c270bff27c39\"\n",
      "\n",
      "[[4]]$Name\n",
      "[1] \"Retail\"\n",
      "\n",
      "[[4]]$Exportable\n",
      "[1] FALSE\n",
      "\n",
      "\n",
      "[[5]]\n",
      "[[5]]$Id\n",
      "[1] \"45badf75-3591-4f26-a705-45678d3e9f5f\"\n",
      "\n",
      "[[5]]$Name\n",
      "[1] \"Adult\"\n",
      "\n",
      "[[5]]$Exportable\n",
      "[1] FALSE\n",
      "\n",
      "\n",
      "[[6]]\n",
      "[[6]]$Id\n",
      "[1] \"0732100f-1a38-4e49-a514-c9b44c697ab5\"\n",
      "\n",
      "[[6]]$Name\n",
      "[1] \"General (compact)\"\n",
      "\n",
      "[[6]]$Exportable\n",
      "[1] TRUE\n",
      "\n",
      "\n",
      "[[7]]\n",
      "[[7]]$Id\n",
      "[1] \"b5cfd229-2ac7-4b2b-8d0a-2b0661344894\"\n",
      "\n",
      "[[7]]$Name\n",
      "[1] \"Landmarks (compact)\"\n",
      "\n",
      "[[7]]$Exportable\n",
      "[1] TRUE\n",
      "\n",
      "\n",
      "[[8]]\n",
      "[[8]]$Id\n",
      "[1] \"6b4faeda-8396-481b-9f8b-177b9fa3097f\"\n",
      "\n",
      "[[8]]$Name\n",
      "[1] \"Retail (compact)\"\n",
      "\n",
      "[[8]]$Exportable\n",
      "[1] TRUE\n",
      "\n",
      "\n"
     ]
    }
   ],
   "source": [
    "## Get the list of available training domains\n",
    "domainsURL <- paste0(cvision_api_endpoint, \"/domains\")\n",
    "\n",
    "APIresponse = GET(url = domainsURL,\n",
    "                   content_type_json(),\n",
    "                   add_headers(.headers= c('Training-key' = cvision_api_key)),\n",
    "                   body=\"\",\n",
    "                   encode=\"json\")\n",
    "\n",
    "domains <- content(APIresponse)\n",
    "print(domains)\n",
    "domains.Food <- domains[[2]]$Id\n",
    "\n",
    "## Create a project\n",
    "createURL <- paste0(cvision_api_endpoint, \"/projects?\",\n",
    "                    \"name=AFGhotdog&\",\n",
    "                    'description=NotHotdog&',\n",
    "                    'domainId=',domains.Food)\n",
    "\n",
    "APIresponse = POST(url = createURL,\n",
    "                   content_type_json(),\n",
    "                   add_headers(.headers= c('Training-key' = cvision_api_key)),\n",
    "                   body=\"\",\n",
    "                   encode=\"json\")\n",
    "\n",
    "cvision_id <- content(APIresponse)$Id"
   ]
  },
  {
   "cell_type": "code",
   "execution_count": 5,
   "metadata": {},
   "outputs": [
    {
     "data": {
      "text/html": [
       "<dl class=dl-horizontal>\n",
       "\t<dt>hotdog</dt>\n",
       "\t\t<dd>'b400a9ad-687e-4003-8550-81cf744d57d5'</dd>\n",
       "\t<dt>nothotdog</dt>\n",
       "\t\t<dd>'c7a9f10d-200a-4347-996c-d293a0bfcddd'</dd>\n",
       "</dl>\n"
      ],
      "text/latex": [
       "\\begin{description*}\n",
       "\\item[hotdog] 'b400a9ad-687e-4003-8550-81cf744d57d5'\n",
       "\\item[nothotdog] 'c7a9f10d-200a-4347-996c-d293a0bfcddd'\n",
       "\\end{description*}\n"
      ],
      "text/markdown": [
       "hotdog\n",
       ":   'b400a9ad-687e-4003-8550-81cf744d57d5'nothotdog\n",
       ":   'c7a9f10d-200a-4347-996c-d293a0bfcddd'\n",
       "\n"
      ],
      "text/plain": [
       "                                hotdog                              nothotdog \n",
       "\"b400a9ad-687e-4003-8550-81cf744d57d5\" \"c7a9f10d-200a-4347-996c-d293a0bfcddd\" "
      ]
     },
     "metadata": {},
     "output_type": "display_data"
    }
   ],
   "source": [
    "## Next, create tags we will use to label the images\n",
    "## We will use \"hotdog\" for hot dog images and \"nothotdog\" for similar looking foods\n",
    "## We will save the tag ids returned by the API for use later\n",
    "\n",
    "## function to create one tag, and return its id\n",
    "createTag <- function(id, tagname) {\n",
    " eURL <- paste0(cvision_api_endpoint, \"/projects/\", id, \"/tags?\",\n",
    "                \"name=\",tagname)\n",
    " \n",
    " APIresponse = POST(url = eURL,\n",
    "                    content_type_json(),\n",
    "                    add_headers(.headers= c('Training-key' = cvision_api_key)),\n",
    "                    body=\"\",\n",
    "                    encode=\"json\")\n",
    "\n",
    " content(APIresponse)$Id \n",
    "}\n",
    "\n",
    "hotdog_tag <- createTag(cvision_id, \"hotdog\")\n",
    "nothotdog_tag <- createTag(cvision_id, \"nothotdog\")\n",
    "tags <- c(hotdog = hotdog_tag, nothotdog=nothotdog_tag)\n",
    "tags"
   ]
  },
  {
   "cell_type": "markdown",
   "metadata": {},
   "source": [
    "This is a good opportunity to visit https://customvision.ai and log in to see your project. It's empty for now, but with our two tags defined. We'll upload pictures of hotdogs under the \"hotdog\" tag, and pictures of tacos, hamburgers, etc. under the \"nothotdog\" tag.\n",
    "\n",
    "Note that our app will actually be classifying _three_ types of images: hotdogs, tacos/hamburgers, and eveything else. When building a classifier, it's useful to include a category of images likely to be mistaken for your target image -- that's why we chose tacos and hamburgers. You can use the same technique to create a classifier that detects multiple image types; for example, you could add a \"pizza\" tag and also upload images of pizza.\n",
    "\n",
    "We created the files `hotdogs-good.txt` and `nothotdogs-good.txt`\n",
    "using ImageNet data and some visual inspection. See the file \n",
    "`nothotdog-find-data.R` if you want to see how it was done."
   ]
  },
  {
   "cell_type": "code",
   "execution_count": 6,
   "metadata": {},
   "outputs": [
    {
     "data": {
      "text/html": [
       "FALSE"
      ],
      "text/latex": [
       "FALSE"
      ],
      "text/markdown": [
       "FALSE"
      ],
      "text/plain": [
       "[1] FALSE"
      ]
     },
     "metadata": {},
     "output_type": "display_data"
    },
    {
     "data": {
      "text/html": [
       "FALSE"
      ],
      "text/latex": [
       "FALSE"
      ],
      "text/markdown": [
       "FALSE"
      ],
      "text/plain": [
       "[1] FALSE"
      ]
     },
     "metadata": {},
     "output_type": "display_data"
    }
   ],
   "source": [
    "## Read in a file of URLs of images of hotdogs, and also a file\n",
    "## of URL of images that are somewhat similar to, but not, hotdogs\n",
    "hotdogs <- scan(\"hotdogs-good.txt\",what=character())\n",
    "nothotdogs <- scan(\"nothotdogs-good.txt\", what=character())\n",
    "\n",
    "## A function to upload images to Custom Vision\n",
    "uploadURLs <- function(id, tagname, urls) {\n",
    " ## id: Project ID\n",
    " ## tagname: one tag (applued to all URLs), as a tag ID\n",
    " ## urls: vector of image URLs\n",
    "\n",
    " eURL <- paste0(cvision_api_endpoint, \"/projects/\", id, \"/images/url\")\n",
    " success <- logical(0)\n",
    "  \n",
    " ## The API accepts 64 URLs at a time, max, so:\n",
    " while(length(urls) > 0) {\n",
    "\n",
    "  N <- min(length(urls), 64) \n",
    "  urls.body <- toJSON(list(TagIds=tagname, Urls=urls[1:N]))\n",
    "\n",
    "  APIresponse = POST(url = eURL,\n",
    "                    content_type_json(),\n",
    "                    add_headers(.headers= c('Training-key' = cvision_api_key)),\n",
    "                    body=urls.body,\n",
    "                    encode=\"json\")\n",
    " \n",
    "  success <- c(success,content(APIresponse)$IsBatchSuccessful)\n",
    "  urls <- urls[-(1:N)]\n",
    " }\n",
    " all(success)\n",
    "}\n",
    "\n",
    "## Upload the images to Custom Vision. Should return TRUE in both cases, indicating success.\n",
    "## If you do get some FALSE results, it's probably because some URLs were unavailable.\n",
    "uploadURLs(cvision_id, tags[\"hotdog\"], hotdogs)\n",
    "uploadURLs(cvision_id, tags[\"nothotdog\"], nothotdogs)"
   ]
  },
  {
   "cell_type": "markdown",
   "metadata": {},
   "source": [
    "Take another look at your project at https://customvision.ai . You'll now see the project populated with images, classified as `hotdog` and `nothotdog`.\n",
    "\n",
    "We can alse check on the status of the project via the API:"
   ]
  },
  {
   "cell_type": "code",
   "execution_count": 7,
   "metadata": {},
   "outputs": [
    {
     "name": "stdout",
     "output_type": "stream",
     "text": [
      "[1] \"b05319ba-a8d4-4676-b081-39d17a5e29af\"\n",
      "[1] \"b05319ba-a8d4-4676-b081-39d17a5e29af\"\n"
     ]
    }
   ],
   "source": [
    "## Get status of projects\n",
    "projURL <- paste0(cvision_api_endpoint, \"/projects/\")\n",
    "\n",
    "APIresponse = GET(url = projURL,\n",
    "                   content_type_json(),\n",
    "                   add_headers(.headers= c('Training-key' = cvision_api_key)),\n",
    "                   body=\"\",\n",
    "                   encode=\"json\")\n",
    "\n",
    "projStatus <- content(APIresponse)\n",
    "\n",
    "## These two will be the same unless you have more than one project\n",
    "print(projStatus[[1]]$Id)\n",
    "print(cvision_id)"
   ]
  },
  {
   "cell_type": "code",
   "execution_count": 8,
   "metadata": {},
   "outputs": [
    {
     "name": "stdout",
     "output_type": "stream",
     "text": [
      "[1] \"0c65b26c-484e-4407-9847-bee588c42943\"\n"
     ]
    }
   ],
   "source": [
    "## Train project\n",
    "trainURL <- paste0(cvision_api_endpoint, \"/projects/\",\n",
    "                   cvision_id,\n",
    "                   \"/train\")\n",
    "\n",
    "APIresponse = POST(url = trainURL,\n",
    "                   content_type_json(),\n",
    "                   add_headers(.headers= c('Training-key' = cvision_api_key)),\n",
    "                   body=\"\",\n",
    "                   encode=\"json\")\n",
    "\n",
    "trainOut <- content(APIresponse)\n",
    "\n",
    "if(!is.null(trainOut$Code)) print(trainOut$Message) else\n",
    "  train.id <- content(APIresponse)$Id\n",
    "\n",
    "print(train.id)"
   ]
  },
  {
   "cell_type": "code",
   "execution_count": 9,
   "metadata": {},
   "outputs": [],
   "source": [
    "## Function to check status of a trained model (iteration)\n",
    "\n",
    "iterStatus <- function(id) {\n",
    " iterURL <- paste0(cvision_api_endpoint, \"/projects/\",\n",
    "                    cvision_id,\n",
    "                    \"/iterations/\",\n",
    "                    id)\n",
    " \n",
    " APIresponse = GET(url = iterURL,\n",
    "                    content_type_json(),\n",
    "                    add_headers(.headers= c('Training-key' = cvision_api_key)),\n",
    "                    body=\"\",\n",
    "                    encode=\"json\")\n",
    " \n",
    " content(APIresponse)$Status\n",
    "}"
   ]
  },
  {
   "cell_type": "code",
   "execution_count": 14,
   "metadata": {},
   "outputs": [
    {
     "data": {
      "text/html": [
       "'Completed'"
      ],
      "text/latex": [
       "'Completed'"
      ],
      "text/markdown": [
       "'Completed'"
      ],
      "text/plain": [
       "[1] \"Completed\""
      ]
     },
     "metadata": {},
     "output_type": "display_data"
    }
   ],
   "source": [
    "## Keep checking this until the status is: Completed\n",
    "iterStatus(train.id)"
   ]
  },
  {
   "cell_type": "markdown",
   "metadata": {},
   "source": [
    "Now, visit https://customvision.ai, select your project and click the \"Performance\" tab. Experiment with moving the Probability Threshold slider, and note that you can decrease it (improving Recall) while generally maintaining Precision. This will be useful later."
   ]
  },
  {
   "cell_type": "markdown",
   "metadata": {},
   "source": [
    "Now, we'll write a function to classify an image.\n",
    "\n",
    "The prediction API will return a classification probability for both of our tags, `hotdog` and `nothotdog`. We'll use the following rules, with a default threshold of 50%:\n",
    "\n",
    "* If the `hotdog` probability is above the threshold, classify as \"hotdog\"\n",
    "* Otherwise, if the `nothotdog` probability is above the threshold, classify as \"non-hotdog food\"\n",
    "* Otherwise, classify as \"not hotdog\"."
   ]
  },
  {
   "cell_type": "code",
   "execution_count": 15,
   "metadata": {},
   "outputs": [],
   "source": [
    "cvision_api_endpoint_pred <- \"https://southcentralus.api.cognitive.microsoft.com/customvision/v1.1/Prediction\"\n",
    "\n",
    "## Function to generate predictions from a single URL, with classifier cutoff threshold (0-1)\n",
    "hotdog_predict <- function(imageURL, threshold = 0.5) {\n",
    " predURL <- paste0(cvision_api_endpoint_pred, \"/\", cvision_id,\"/url?\",\n",
    "                   \"iterationId=\",train.id,\n",
    "                   \"&application=R\"\n",
    "                   )\n",
    "\n",
    " body.pred <- toJSON(list(Url=imageURL[1]), auto_unbox = TRUE)\n",
    "\n",
    " APIresponse = POST(url = predURL,\n",
    "                    content_type_json(),\n",
    "                    add_headers(.headers= c('Prediction-key' = cvision_pred_key)),\n",
    "                    body=body.pred,\n",
    "                    encode=\"json\")\n",
    " \n",
    " out <- content(APIresponse)\n",
    " \n",
    " if(!is.null(out$Code)) msg <- paste0(\"Can't analyze: \", out$Message) else\n",
    " {  \n",
    "  predmat <- matrix(unlist(out$Predictions), nrow=3)\n",
    "  preds <- as.numeric(predmat[3,])\n",
    "  names(preds) <- predmat[2,]\n",
    "  \n",
    "  ## uncomment this to see the class predictions\n",
    "  ## print(preds)\n",
    "  \n",
    "  if(preds[\"hotdog\"]>threshold) msg <- \"Hotdog\" else\n",
    "   if(preds[\"nothotdog\"]>threshold) msg <- \"Not Hotdog (but it looks delicious!)\" else\n",
    "    msg <- \"Not Hotdog\"\n",
    "  }\n",
    "\n",
    "  ## print the URL -- it will become clickable in the notebook\n",
    "  cat(imageURL[1],\"\\n\")\n",
    "  msg\n",
    "}"
   ]
  },
  {
   "cell_type": "code",
   "execution_count": 16,
   "metadata": {},
   "outputs": [
    {
     "name": "stdout",
     "output_type": "stream",
     "text": [
      "http://www.bigislandgrinds.com/wp-content/images/hiranostore_hotdog.jpg \n"
     ]
    },
    {
     "data": {
      "text/html": [
       "'Hotdog'"
      ],
      "text/latex": [
       "'Hotdog'"
      ],
      "text/markdown": [
       "'Hotdog'"
      ],
      "text/plain": [
       "[1] \"Hotdog\""
      ]
     },
     "metadata": {},
     "output_type": "display_data"
    },
    {
     "name": "stdout",
     "output_type": "stream",
     "text": [
      "http://simplyrecipes.com/photos/hamburger.jpg \n"
     ]
    },
    {
     "data": {
      "text/html": [
       "'Not Hotdog (but it looks delicious!)'"
      ],
      "text/latex": [
       "'Not Hotdog (but it looks delicious!)'"
      ],
      "text/markdown": [
       "'Not Hotdog (but it looks delicious!)'"
      ],
      "text/plain": [
       "[1] \"Not Hotdog (but it looks delicious!)\""
      ]
     },
     "metadata": {},
     "output_type": "display_data"
    }
   ],
   "source": [
    "## Since these images were in our training data, most of these should be correct.\n",
    "## The exact nunber is determined by the threshold (here, 50%) and the Recall statistic\n",
    "hotdog_predict(hotdogs[1])\n",
    "hotdog_predict(nothotdogs[1])"
   ]
  },
  {
   "cell_type": "code",
   "execution_count": 17,
   "metadata": {},
   "outputs": [],
   "source": [
    "## here are some images to try, from a Google Image Search for \"hotdog\n",
    "example.hotdogs <- c(\n",
    " \"http://www.wienerschnitzel.com/wp-content/uploads/2014/10/hotdog_mustard-main.jpg\",\n",
    " \"https://qz.com/wp-content/uploads/2017/07/hotdogs2__2__720.jpg?quality=80&strip=all\",\n",
    " \"http://www.americangarden.us/wp-content/uploads/2016/10/Recipe_Hot-dog-sandwich.jpg\",\n",
    " \"http://www.hot-dog.org/sites/default/files/pictures/hot-dogs-on-the-grill-sm.jpg\",\n",
    " \"https://www.dairyqueen.com/Global/Food/Hot-Dogs_8-to-1_470x500.jpg?width=&height=810\"\n",
    ")\n",
    "\n",
    "## and a few Not Hotdog images to try\n",
    "example.nothotdogs <- c(\n",
    " \"https://upload.wikimedia.org/wikipedia/commons/thumb/4/46/Burrito_with_rice.jpg/1200px-Burrito_with_rice.jpg\", #burrito\n",
    " \"https://www.biggerbolderbaking.com/wp-content/uploads/2015/12/IMG_8761.jpg\", # croissant\n",
    " \"https://bigoven-res.cloudinary.com/image/upload/t_recipe-480/sausage-rolls.jpg\", #sausage roll\n",
    " \"https://www.recipetineats.com/wp-content/uploads/2017/09/Spring-Rolls-6.jpg\", #spring rolls\n",
    " \"https://images-gmi-pmc.edge-generalmills.com/b8488ce5-b076-420d-b0d0-e83039cae278.jpg\" # jelly roll\n",
    ")"
   ]
  },
  {
   "cell_type": "code",
   "execution_count": 18,
   "metadata": {},
   "outputs": [
    {
     "name": "stdout",
     "output_type": "stream",
     "text": [
      "https://qz.com/wp-content/uploads/2017/07/hotdogs2__2__720.jpg?quality=80&strip=all \n"
     ]
    },
    {
     "data": {
      "text/html": [
       "'Hotdog'"
      ],
      "text/latex": [
       "'Hotdog'"
      ],
      "text/markdown": [
       "'Hotdog'"
      ],
      "text/plain": [
       "[1] \"Hotdog\""
      ]
     },
     "metadata": {},
     "output_type": "display_data"
    },
    {
     "name": "stdout",
     "output_type": "stream",
     "text": [
      "https://www.biggerbolderbaking.com/wp-content/uploads/2015/12/IMG_8761.jpg \n"
     ]
    },
    {
     "data": {
      "text/html": [
       "'Not Hotdog'"
      ],
      "text/latex": [
       "'Not Hotdog'"
      ],
      "text/markdown": [
       "'Not Hotdog'"
      ],
      "text/plain": [
       "[1] \"Not Hotdog\""
      ]
     },
     "metadata": {},
     "output_type": "display_data"
    }
   ],
   "source": [
    "## try out the other examples as well\n",
    "hotdog_predict(example.hotdogs[2])\n",
    "hotdog_predict(example.nothotdogs[2])"
   ]
  },
  {
   "cell_type": "code",
   "execution_count": 19,
   "metadata": {},
   "outputs": [
    {
     "name": "stdout",
     "output_type": "stream",
     "text": [
      "https://www.recipetineats.com/wp-content/uploads/2017/09/Spring-Rolls-6.jpg \n"
     ]
    },
    {
     "data": {
      "text/html": [
       "'Not Hotdog'"
      ],
      "text/latex": [
       "'Not Hotdog'"
      ],
      "text/markdown": [
       "'Not Hotdog'"
      ],
      "text/plain": [
       "[1] \"Not Hotdog\""
      ]
     },
     "metadata": {},
     "output_type": "display_data"
    }
   ],
   "source": [
    "## Here's an example where the classification is wrong, at the 50% threshold\n",
    "hotdog_predict(example.nothotdogs[4])"
   ]
  },
  {
   "cell_type": "code",
   "execution_count": 20,
   "metadata": {},
   "outputs": [
    {
     "name": "stdout",
     "output_type": "stream",
     "text": [
      "https://www.recipetineats.com/wp-content/uploads/2017/09/Spring-Rolls-6.jpg \n"
     ]
    },
    {
     "data": {
      "text/html": [
       "'Not Hotdog'"
      ],
      "text/latex": [
       "'Not Hotdog'"
      ],
      "text/markdown": [
       "'Not Hotdog'"
      ],
      "text/plain": [
       "[1] \"Not Hotdog\""
      ]
     },
     "metadata": {},
     "output_type": "display_data"
    },
    {
     "name": "stdout",
     "output_type": "stream",
     "text": [
      "http://www.americangarden.us/wp-content/uploads/2016/10/Recipe_Hot-dog-sandwich.jpg \n"
     ]
    },
    {
     "data": {
      "text/html": [
       "'Not Hotdog (but it looks delicious!)'"
      ],
      "text/latex": [
       "'Not Hotdog (but it looks delicious!)'"
      ],
      "text/markdown": [
       "'Not Hotdog (but it looks delicious!)'"
      ],
      "text/plain": [
       "[1] \"Not Hotdog (but it looks delicious!)\""
      ]
     },
     "metadata": {},
     "output_type": "display_data"
    }
   ],
   "source": [
    "## We can be more conservative, at the expense of misclassifying some actual hotdogs\n",
    "hotdog_predict(example.nothotdogs[4], threshold = 0.70)\n",
    "hotdog_predict(example.hotdogs[3], threshold = 0.7)"
   ]
  }
 ],
 "metadata": {
  "kernelspec": {
   "display_name": "R",
   "language": "R",
   "name": "ir"
  },
  "language_info": {
   "codemirror_mode": "r",
   "file_extension": ".r",
   "mimetype": "text/x-r-source",
   "name": "R",
   "pygments_lexer": "r",
   "version": "3.4.3"
  }
 },
 "nbformat": 4,
 "nbformat_minor": 2
}
